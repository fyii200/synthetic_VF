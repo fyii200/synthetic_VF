{
 "cells": [
  {
   "cell_type": "code",
   "execution_count": 57,
   "id": "a1ddd443",
   "metadata": {},
   "outputs": [],
   "source": [
    "import json\n",
    "import numpy as np\n",
    "import matplotlib.pyplot as plt\n",
    "import seaborn as sns"
   ]
  },
  {
   "cell_type": "code",
   "execution_count": 6,
   "id": "561dc6b7",
   "metadata": {},
   "outputs": [],
   "source": [
    "# Load data\n",
    "with open(\"data/alldata.json\") as fin:\n",
    "  dat = json.loads(fin.read())"
   ]
  },
  {
   "cell_type": "code",
   "execution_count": 84,
   "id": "610c6249",
   "metadata": {},
   "outputs": [
    {
     "name": "stdout",
     "output_type": "stream",
     "text": [
      "Total of 3871 patients, 7428 eyes, and 28943 HVFs\n",
      "\n",
      "----------------------------------------------------------------------\n",
      "\n",
      "Age of first HVF of the right eye for patient 647: 52.79671457905544\n",
      "Number of RE VFs for patient 647: 11\n",
      "\n",
      "\n",
      "First RE VF for patient 647: \n",
      "\n",
      "[[100.   100.   100.    26.34  23.73  22.84  24.19 100.   100.  ]\n",
      " [100.   100.    26.25  27.22  25.67  26.18  27.01  26.24 100.  ]\n",
      " [100.    22.2   28.17  29.2   28.44  27.58  28.51  28.02  25.68]\n",
      " [ 20.4   27.41  29.73  30.02  30.93  30.36  30.64  21.    27.89]\n",
      " [ 20.45  25.88  28.9   32.17  31.89  30.91  28.8    0.    27.43]\n",
      " [100.    27.16  29.98  32.74  29.95  32.07  29.84  26.99  27.3 ]\n",
      " [100.   100.    26.88  29.43  29.82  28.64  29.81  28.24 100.  ]\n",
      " [100.   100.   100.    28.88  27.3   26.82  28.18 100.   100.  ]]\n"
     ]
    },
    {
     "data": {
      "text/plain": [
       "<AxesSubplot:>"
      ]
     },
     "execution_count": 84,
     "metadata": {},
     "output_type": "execute_result"
    },
    {
     "data": {
      "image/png": "[encoded data removed]",
      "text/plain": [
       "<Figure size 432x288 with 2 Axes>"
      ]
     },
     "metadata": {
      "needs_background": "light"
     },
     "output_type": "display_data"
    }
   ],
   "source": [
    "# Basic statistics\n",
    "print(f\"Total of {dat['pts']} patients, {dat['eyes']} eyes, and {dat['hvfs']} HVFs\")\n",
    "print('\\n----------------------------------------------------------------------\\n')\n",
    "print(f\"Age of first HVF of the right eye for patient 647: {dat['data']['647']['R'][0]['age']}\")\n",
    "print(f\"Number of RE VFs for patient 647: {len(dat['data']['647']['R'])}\" )\n",
    "print('\\n')\n",
    "print('First RE VF for patient 647: \\n')\n",
    "print( np.array(dat['data']['647']['R'][0]['hvf']) )\n",
    "\n",
    "vf = np.array(dat['data']['647']['R'][0]['hvf'])\n",
    "sns.heatmap(vf, vmin=0, vmax=35)\n"
   ]
  }
 ],
 "metadata": {
  "kernelspec": {
   "display_name": "Python 3 (ipykernel)",
   "language": "python",
   "name": "python3"
  },
  "language_info": {
   "codemirror_mode": {
    "name": "ipython",
    "version": 3
   },
   "file_extension": ".py",
   "mimetype": "text/x-python",
   "name": "python",
   "nbconvert_exporter": "python",
   "pygments_lexer": "ipython3",
   "version": "3.9.7"
  }
 },
 "nbformat": 4,
 "nbformat_minor": 5
}
